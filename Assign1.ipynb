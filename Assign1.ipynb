{
  "nbformat": 4,
  "nbformat_minor": 0,
  "metadata": {
    "colab": {
      "provenance": [],
      "include_colab_link": true
    },
    "kernelspec": {
      "name": "python3",
      "display_name": "Python 3"
    },
    "language_info": {
      "name": "python"
    }
  },
  "cells": [
    {
      "cell_type": "markdown",
      "metadata": {
        "id": "view-in-github",
        "colab_type": "text"
      },
      "source": [
        "<a href=\"https://colab.research.google.com/github/Chaudharysumit07/ChatBot-MirrorApp/blob/master/Assign1.ipynb\" target=\"_parent\"><img src=\"https://colab.research.google.com/assets/colab-badge.svg\" alt=\"Open In Colab\"/></a>"
      ]
    },
    {
      "cell_type": "code",
      "execution_count": 22,
      "metadata": {
        "id": "P3jAqbg5jkZo"
      },
      "outputs": [],
      "source": [
        "import numpy as np\n"
      ]
    },
    {
      "cell_type": "code",
      "source": [
        "\n",
        "def createFeatures( X ):\n",
        "    return np.cumprod( np.flip( 2 * X - 1 , axis = 1 ), axis = 1 )\n",
        "\n"
      ],
      "metadata": {
        "id": "_r9yAgVJj1bt"
      },
      "execution_count": 23,
      "outputs": []
    },
    {
      "cell_type": "code",
      "source": [
        "from scipy import linalg"
      ],
      "metadata": {
        "id": "0MpdxoUllXbv"
      },
      "execution_count": 5,
      "outputs": []
    },
    {
      "cell_type": "code",
      "source": [
        "def get_renamed(Y):\n",
        "  return 2*Y-1"
      ],
      "metadata": {
        "id": "uaCdAnOAsCnE"
      },
      "execution_count": 8,
      "outputs": []
    },
    {
      "cell_type": "code",
      "source": [
        "def get_features(X):\n",
        "    X_new = createFeatures(X)\n",
        "    a=linalg.khatri_rao(X_new,X_new).T\n",
        "    f_vecs=linalg.khatri_rao(a,X_new).T\n",
        "    return f_vecs"
      ],
      "metadata": {
        "id": "UgDKv8w0lI7g"
      },
      "execution_count": 9,
      "outputs": []
    },
    {
      "cell_type": "code",
      "source": [
        "def Solver(X):\n",
        "  return X.dot(w)"
      ],
      "metadata": {
        "id": "TW6TDHv4msf-"
      },
      "execution_count": 10,
      "outputs": []
    },
    {
      "cell_type": "code",
      "source": [
        "#STOCHASTIC GRADIENT DESCENT"
      ],
      "metadata": {
        "id": "_x66H0nVm_O9"
      },
      "execution_count": 11,
      "outputs": []
    },
    {
      "cell_type": "code",
      "source": [
        "\n",
        "def SGD():\n",
        "  W0 =  100\n",
        "  for i in range(1000):\n",
        "    eta = 1 / (i+1000)\n",
        "    "
      ],
      "metadata": {
        "id": "9D9hZqPTnI79"
      },
      "execution_count": 12,
      "outputs": []
    },
    {
      "cell_type": "code",
      "source": [
        "data_trn = np.genfromtxt('/content/train.dat')\n",
        "data_tst = np.genfromtxt('/content/test.dat')"
      ],
      "metadata": {
        "id": "-RrRSU6wnJO9"
      },
      "execution_count": 14,
      "outputs": []
    },
    {
      "cell_type": "code",
      "source": [
        "data_trn"
      ],
      "metadata": {
        "colab": {
          "base_uri": "https://localhost:8080/"
        },
        "id": "M00aHyzIqPhG",
        "outputId": "6903829e-6685-4f96-8e24-88c7bbb611fb"
      },
      "execution_count": 15,
      "outputs": [
        {
          "output_type": "execute_result",
          "data": {
            "text/plain": [
              "array([[0., 0., 0., ..., 0., 0., 1.],\n",
              "       [1., 0., 0., ..., 1., 1., 0.],\n",
              "       [0., 1., 1., ..., 0., 0., 1.],\n",
              "       ...,\n",
              "       [1., 0., 1., ..., 1., 0., 1.],\n",
              "       [0., 0., 1., ..., 1., 0., 1.],\n",
              "       [0., 1., 1., ..., 0., 0., 1.]])"
            ]
          },
          "metadata": {},
          "execution_count": 15
        }
      ]
    },
    {
      "cell_type": "code",
      "source": [
        "data_trn.shape"
      ],
      "metadata": {
        "colab": {
          "base_uri": "https://localhost:8080/"
        },
        "id": "Q18sxjZ1qUCs",
        "outputId": "3f61a0cc-6e3b-4e78-cef0-391d93eaade4"
      },
      "execution_count": 16,
      "outputs": [
        {
          "output_type": "execute_result",
          "data": {
            "text/plain": [
              "(10000, 9)"
            ]
          },
          "metadata": {},
          "execution_count": 16
        }
      ]
    },
    {
      "cell_type": "code",
      "source": [
        "X_trn=createFeatures(data_trn[:,:-1])\n",
        "Y_trn=get_renamed(data_trn[:,-1])"
      ],
      "metadata": {
        "id": "yJGVORulqXXM"
      },
      "execution_count": 17,
      "outputs": []
    },
    {
      "cell_type": "code",
      "source": [
        "X_trn.shape"
      ],
      "metadata": {
        "id": "oORBUv1ccn_m",
        "outputId": "c0e733d6-2b00-4ea0-c594-0f839bc25260",
        "colab": {
          "base_uri": "https://localhost:8080/"
        }
      },
      "execution_count": 33,
      "outputs": [
        {
          "output_type": "execute_result",
          "data": {
            "text/plain": [
              "(10000, 8)"
            ]
          },
          "metadata": {},
          "execution_count": 33
        }
      ]
    },
    {
      "cell_type": "code",
      "source": [
        "X_trn[0]"
      ],
      "metadata": {
        "colab": {
          "base_uri": "https://localhost:8080/"
        },
        "id": "UAanItmJqn0M",
        "outputId": "1e901b67-b385-4899-f8ab-24933064ae10"
      },
      "execution_count": 18,
      "outputs": [
        {
          "output_type": "execute_result",
          "data": {
            "text/plain": [
              "array([-1.,  1.,  1., -1.,  1., -1.,  1., -1.])"
            ]
          },
          "metadata": {},
          "execution_count": 18
        }
      ]
    },
    {
      "cell_type": "code",
      "source": [
        "Y_trn"
      ],
      "metadata": {
        "colab": {
          "base_uri": "https://localhost:8080/"
        },
        "id": "q3JEoTMjrm9X",
        "outputId": "5f02da94-c2a0-4eed-b439-7decb2ddfcf5"
      },
      "execution_count": 19,
      "outputs": [
        {
          "output_type": "execute_result",
          "data": {
            "text/plain": [
              "array([ 1., -1.,  1., ...,  1.,  1.,  1.])"
            ]
          },
          "metadata": {},
          "execution_count": 19
        }
      ]
    },
    {
      "cell_type": "code",
      "source": [
        "from numpy import random\n",
        "rndm=np.random.randint(X_trn.shape[0])\n",
        "X_trn[rndm]\n",
        "Y_trn[rndm]"
      ],
      "metadata": {
        "id": "4I2Nlnp9t_Gb",
        "outputId": "9e456ca3-9c29-4073-a3d0-585a8ecb1e69",
        "colab": {
          "base_uri": "https://localhost:8080/"
        }
      },
      "execution_count": 29,
      "outputs": [
        {
          "output_type": "execute_result",
          "data": {
            "text/plain": [
              "-1.0"
            ]
          },
          "metadata": {},
          "execution_count": 29
        }
      ]
    },
    {
      "cell_type": "code",
      "source": [
        "\n",
        "w = np.full((729,1),100)\n",
        "for i in range(1000):\n",
        "  eta = 1/(i+1000)\n",
        "  for j in range(X_trn.shape[0]):\n",
        "    rndm=np.random.randint(X_trn.shape[0])\n",
        "    d_point=X_trn[rndm]\n",
        "    label=Y_trn[rndm]\n",
        "\n",
        "    if (1-label*(d_point.dot(w)) <= 0): # w input lena hai\n",
        "      grdnt = w \n",
        "    else :\n",
        "      grdnt = w - 100*d_point*label  # c hamara 100 hai   \n",
        "    \n",
        "    w_new = w - eta*grdnt\n"
      ],
      "metadata": {
        "id": "D_9oVaaQxtb7",
        "outputId": "93f9de4f-ce4e-4a39-fad8-b7a10cd7ecc0",
        "colab": {
          "base_uri": "https://localhost:8080/",
          "height": 235
        }
      },
      "execution_count": 32,
      "outputs": [
        {
          "output_type": "error",
          "ename": "ValueError",
          "evalue": "ignored",
          "traceback": [
            "\u001b[0;31m---------------------------------------------------------------------------\u001b[0m",
            "\u001b[0;31mValueError\u001b[0m                                Traceback (most recent call last)",
            "\u001b[0;32m<ipython-input-32-b29cf41f7ea9>\u001b[0m in \u001b[0;36m<module>\u001b[0;34m\u001b[0m\n\u001b[1;32m      7\u001b[0m     \u001b[0mlabel\u001b[0m\u001b[0;34m=\u001b[0m\u001b[0mY_trn\u001b[0m\u001b[0;34m[\u001b[0m\u001b[0mrndm\u001b[0m\u001b[0;34m]\u001b[0m\u001b[0;34m\u001b[0m\u001b[0;34m\u001b[0m\u001b[0m\n\u001b[1;32m      8\u001b[0m \u001b[0;34m\u001b[0m\u001b[0m\n\u001b[0;32m----> 9\u001b[0;31m     \u001b[0;32mif\u001b[0m \u001b[0;34m(\u001b[0m\u001b[0;36m1\u001b[0m\u001b[0;34m-\u001b[0m\u001b[0mlabel\u001b[0m\u001b[0;34m*\u001b[0m\u001b[0;34m(\u001b[0m\u001b[0md_point\u001b[0m\u001b[0;34m.\u001b[0m\u001b[0mdot\u001b[0m\u001b[0;34m(\u001b[0m\u001b[0mw\u001b[0m\u001b[0;34m)\u001b[0m\u001b[0;34m)\u001b[0m \u001b[0;34m<=\u001b[0m \u001b[0;36m0\u001b[0m\u001b[0;34m)\u001b[0m\u001b[0;34m:\u001b[0m \u001b[0;31m# w input lena hai\u001b[0m\u001b[0;34m\u001b[0m\u001b[0;34m\u001b[0m\u001b[0m\n\u001b[0m\u001b[1;32m     10\u001b[0m       \u001b[0mgrdnt\u001b[0m \u001b[0;34m=\u001b[0m \u001b[0mw\u001b[0m\u001b[0;34m\u001b[0m\u001b[0;34m\u001b[0m\u001b[0m\n\u001b[1;32m     11\u001b[0m     \u001b[0;32melse\u001b[0m \u001b[0;34m:\u001b[0m\u001b[0;34m\u001b[0m\u001b[0;34m\u001b[0m\u001b[0m\n",
            "\u001b[0;31mValueError\u001b[0m: shapes (8,) and (729,1) not aligned: 8 (dim 0) != 729 (dim 0)"
          ]
        }
      ]
    },
    {
      "cell_type": "code",
      "source": [
        "pred_y = X_trn.dot(w_new)\n",
        "\n",
        "print(np.average(y_trn == pred_y))"
      ],
      "metadata": {
        "id": "hcLP9McSz49p"
      },
      "execution_count": null,
      "outputs": []
    },
    {
      "cell_type": "code",
      "source": [
        "w = np.full((729,1),100)"
      ],
      "metadata": {
        "id": "_Gq6kA8lxyUr"
      },
      "execution_count": null,
      "outputs": []
    },
    {
      "cell_type": "code",
      "source": [
        "w.shape"
      ],
      "metadata": {
        "colab": {
          "base_uri": "https://localhost:8080/"
        },
        "id": "gR3a92003Jma",
        "outputId": "2b80111a-e504-453c-f4f5-78ddd286f7b7"
      },
      "execution_count": null,
      "outputs": [
        {
          "output_type": "execute_result",
          "data": {
            "text/plain": [
              "(729, 1)"
            ]
          },
          "metadata": {},
          "execution_count": 34
        }
      ]
    },
    {
      "cell_type": "code",
      "source": [
        "w[0]"
      ],
      "metadata": {
        "colab": {
          "base_uri": "https://localhost:8080/"
        },
        "id": "sKUIkB-V3Kx4",
        "outputId": "52bc1f5b-8cd6-4489-a605-f5d9f341f30d"
      },
      "execution_count": null,
      "outputs": [
        {
          "output_type": "execute_result",
          "data": {
            "text/plain": [
              "array([100])"
            ]
          },
          "metadata": {},
          "execution_count": 35
        }
      ]
    },
    {
      "cell_type": "code",
      "source": [
        "a=[]\n",
        "for i in range(729):\n",
        "    a.append(100)\n",
        "\n",
        "a=np.array(a)    \n",
        "  \n",
        "\n",
        "\n"
      ],
      "metadata": {
        "id": "0nAP5eDp4xXX"
      },
      "execution_count": null,
      "outputs": []
    },
    {
      "cell_type": "code",
      "source": [
        "a.reshape(729,1)"
      ],
      "metadata": {
        "colab": {
          "base_uri": "https://localhost:8080/"
        },
        "id": "YftVMpCt5KNZ",
        "outputId": "e5858d21-88db-42e3-8a29-0dbcaa75d001"
      },
      "execution_count": null,
      "outputs": [
        {
          "output_type": "execute_result",
          "data": {
            "text/plain": [
              "array([[100],\n",
              "       [100],\n",
              "       [100],\n",
              "       [100],\n",
              "       [100],\n",
              "       [100],\n",
              "       [100],\n",
              "       [100],\n",
              "       [100],\n",
              "       [100],\n",
              "       [100],\n",
              "       [100],\n",
              "       [100],\n",
              "       [100],\n",
              "       [100],\n",
              "       [100],\n",
              "       [100],\n",
              "       [100],\n",
              "       [100],\n",
              "       [100],\n",
              "       [100],\n",
              "       [100],\n",
              "       [100],\n",
              "       [100],\n",
              "       [100],\n",
              "       [100],\n",
              "       [100],\n",
              "       [100],\n",
              "       [100],\n",
              "       [100],\n",
              "       [100],\n",
              "       [100],\n",
              "       [100],\n",
              "       [100],\n",
              "       [100],\n",
              "       [100],\n",
              "       [100],\n",
              "       [100],\n",
              "       [100],\n",
              "       [100],\n",
              "       [100],\n",
              "       [100],\n",
              "       [100],\n",
              "       [100],\n",
              "       [100],\n",
              "       [100],\n",
              "       [100],\n",
              "       [100],\n",
              "       [100],\n",
              "       [100],\n",
              "       [100],\n",
              "       [100],\n",
              "       [100],\n",
              "       [100],\n",
              "       [100],\n",
              "       [100],\n",
              "       [100],\n",
              "       [100],\n",
              "       [100],\n",
              "       [100],\n",
              "       [100],\n",
              "       [100],\n",
              "       [100],\n",
              "       [100],\n",
              "       [100],\n",
              "       [100],\n",
              "       [100],\n",
              "       [100],\n",
              "       [100],\n",
              "       [100],\n",
              "       [100],\n",
              "       [100],\n",
              "       [100],\n",
              "       [100],\n",
              "       [100],\n",
              "       [100],\n",
              "       [100],\n",
              "       [100],\n",
              "       [100],\n",
              "       [100],\n",
              "       [100],\n",
              "       [100],\n",
              "       [100],\n",
              "       [100],\n",
              "       [100],\n",
              "       [100],\n",
              "       [100],\n",
              "       [100],\n",
              "       [100],\n",
              "       [100],\n",
              "       [100],\n",
              "       [100],\n",
              "       [100],\n",
              "       [100],\n",
              "       [100],\n",
              "       [100],\n",
              "       [100],\n",
              "       [100],\n",
              "       [100],\n",
              "       [100],\n",
              "       [100],\n",
              "       [100],\n",
              "       [100],\n",
              "       [100],\n",
              "       [100],\n",
              "       [100],\n",
              "       [100],\n",
              "       [100],\n",
              "       [100],\n",
              "       [100],\n",
              "       [100],\n",
              "       [100],\n",
              "       [100],\n",
              "       [100],\n",
              "       [100],\n",
              "       [100],\n",
              "       [100],\n",
              "       [100],\n",
              "       [100],\n",
              "       [100],\n",
              "       [100],\n",
              "       [100],\n",
              "       [100],\n",
              "       [100],\n",
              "       [100],\n",
              "       [100],\n",
              "       [100],\n",
              "       [100],\n",
              "       [100],\n",
              "       [100],\n",
              "       [100],\n",
              "       [100],\n",
              "       [100],\n",
              "       [100],\n",
              "       [100],\n",
              "       [100],\n",
              "       [100],\n",
              "       [100],\n",
              "       [100],\n",
              "       [100],\n",
              "       [100],\n",
              "       [100],\n",
              "       [100],\n",
              "       [100],\n",
              "       [100],\n",
              "       [100],\n",
              "       [100],\n",
              "       [100],\n",
              "       [100],\n",
              "       [100],\n",
              "       [100],\n",
              "       [100],\n",
              "       [100],\n",
              "       [100],\n",
              "       [100],\n",
              "       [100],\n",
              "       [100],\n",
              "       [100],\n",
              "       [100],\n",
              "       [100],\n",
              "       [100],\n",
              "       [100],\n",
              "       [100],\n",
              "       [100],\n",
              "       [100],\n",
              "       [100],\n",
              "       [100],\n",
              "       [100],\n",
              "       [100],\n",
              "       [100],\n",
              "       [100],\n",
              "       [100],\n",
              "       [100],\n",
              "       [100],\n",
              "       [100],\n",
              "       [100],\n",
              "       [100],\n",
              "       [100],\n",
              "       [100],\n",
              "       [100],\n",
              "       [100],\n",
              "       [100],\n",
              "       [100],\n",
              "       [100],\n",
              "       [100],\n",
              "       [100],\n",
              "       [100],\n",
              "       [100],\n",
              "       [100],\n",
              "       [100],\n",
              "       [100],\n",
              "       [100],\n",
              "       [100],\n",
              "       [100],\n",
              "       [100],\n",
              "       [100],\n",
              "       [100],\n",
              "       [100],\n",
              "       [100],\n",
              "       [100],\n",
              "       [100],\n",
              "       [100],\n",
              "       [100],\n",
              "       [100],\n",
              "       [100],\n",
              "       [100],\n",
              "       [100],\n",
              "       [100],\n",
              "       [100],\n",
              "       [100],\n",
              "       [100],\n",
              "       [100],\n",
              "       [100],\n",
              "       [100],\n",
              "       [100],\n",
              "       [100],\n",
              "       [100],\n",
              "       [100],\n",
              "       [100],\n",
              "       [100],\n",
              "       [100],\n",
              "       [100],\n",
              "       [100],\n",
              "       [100],\n",
              "       [100],\n",
              "       [100],\n",
              "       [100],\n",
              "       [100],\n",
              "       [100],\n",
              "       [100],\n",
              "       [100],\n",
              "       [100],\n",
              "       [100],\n",
              "       [100],\n",
              "       [100],\n",
              "       [100],\n",
              "       [100],\n",
              "       [100],\n",
              "       [100],\n",
              "       [100],\n",
              "       [100],\n",
              "       [100],\n",
              "       [100],\n",
              "       [100],\n",
              "       [100],\n",
              "       [100],\n",
              "       [100],\n",
              "       [100],\n",
              "       [100],\n",
              "       [100],\n",
              "       [100],\n",
              "       [100],\n",
              "       [100],\n",
              "       [100],\n",
              "       [100],\n",
              "       [100],\n",
              "       [100],\n",
              "       [100],\n",
              "       [100],\n",
              "       [100],\n",
              "       [100],\n",
              "       [100],\n",
              "       [100],\n",
              "       [100],\n",
              "       [100],\n",
              "       [100],\n",
              "       [100],\n",
              "       [100],\n",
              "       [100],\n",
              "       [100],\n",
              "       [100],\n",
              "       [100],\n",
              "       [100],\n",
              "       [100],\n",
              "       [100],\n",
              "       [100],\n",
              "       [100],\n",
              "       [100],\n",
              "       [100],\n",
              "       [100],\n",
              "       [100],\n",
              "       [100],\n",
              "       [100],\n",
              "       [100],\n",
              "       [100],\n",
              "       [100],\n",
              "       [100],\n",
              "       [100],\n",
              "       [100],\n",
              "       [100],\n",
              "       [100],\n",
              "       [100],\n",
              "       [100],\n",
              "       [100],\n",
              "       [100],\n",
              "       [100],\n",
              "       [100],\n",
              "       [100],\n",
              "       [100],\n",
              "       [100],\n",
              "       [100],\n",
              "       [100],\n",
              "       [100],\n",
              "       [100],\n",
              "       [100],\n",
              "       [100],\n",
              "       [100],\n",
              "       [100],\n",
              "       [100],\n",
              "       [100],\n",
              "       [100],\n",
              "       [100],\n",
              "       [100],\n",
              "       [100],\n",
              "       [100],\n",
              "       [100],\n",
              "       [100],\n",
              "       [100],\n",
              "       [100],\n",
              "       [100],\n",
              "       [100],\n",
              "       [100],\n",
              "       [100],\n",
              "       [100],\n",
              "       [100],\n",
              "       [100],\n",
              "       [100],\n",
              "       [100],\n",
              "       [100],\n",
              "       [100],\n",
              "       [100],\n",
              "       [100],\n",
              "       [100],\n",
              "       [100],\n",
              "       [100],\n",
              "       [100],\n",
              "       [100],\n",
              "       [100],\n",
              "       [100],\n",
              "       [100],\n",
              "       [100],\n",
              "       [100],\n",
              "       [100],\n",
              "       [100],\n",
              "       [100],\n",
              "       [100],\n",
              "       [100],\n",
              "       [100],\n",
              "       [100],\n",
              "       [100],\n",
              "       [100],\n",
              "       [100],\n",
              "       [100],\n",
              "       [100],\n",
              "       [100],\n",
              "       [100],\n",
              "       [100],\n",
              "       [100],\n",
              "       [100],\n",
              "       [100],\n",
              "       [100],\n",
              "       [100],\n",
              "       [100],\n",
              "       [100],\n",
              "       [100],\n",
              "       [100],\n",
              "       [100],\n",
              "       [100],\n",
              "       [100],\n",
              "       [100],\n",
              "       [100],\n",
              "       [100],\n",
              "       [100],\n",
              "       [100],\n",
              "       [100],\n",
              "       [100],\n",
              "       [100],\n",
              "       [100],\n",
              "       [100],\n",
              "       [100],\n",
              "       [100],\n",
              "       [100],\n",
              "       [100],\n",
              "       [100],\n",
              "       [100],\n",
              "       [100],\n",
              "       [100],\n",
              "       [100],\n",
              "       [100],\n",
              "       [100],\n",
              "       [100],\n",
              "       [100],\n",
              "       [100],\n",
              "       [100],\n",
              "       [100],\n",
              "       [100],\n",
              "       [100],\n",
              "       [100],\n",
              "       [100],\n",
              "       [100],\n",
              "       [100],\n",
              "       [100],\n",
              "       [100],\n",
              "       [100],\n",
              "       [100],\n",
              "       [100],\n",
              "       [100],\n",
              "       [100],\n",
              "       [100],\n",
              "       [100],\n",
              "       [100],\n",
              "       [100],\n",
              "       [100],\n",
              "       [100],\n",
              "       [100],\n",
              "       [100],\n",
              "       [100],\n",
              "       [100],\n",
              "       [100],\n",
              "       [100],\n",
              "       [100],\n",
              "       [100],\n",
              "       [100],\n",
              "       [100],\n",
              "       [100],\n",
              "       [100],\n",
              "       [100],\n",
              "       [100],\n",
              "       [100],\n",
              "       [100],\n",
              "       [100],\n",
              "       [100],\n",
              "       [100],\n",
              "       [100],\n",
              "       [100],\n",
              "       [100],\n",
              "       [100],\n",
              "       [100],\n",
              "       [100],\n",
              "       [100],\n",
              "       [100],\n",
              "       [100],\n",
              "       [100],\n",
              "       [100],\n",
              "       [100],\n",
              "       [100],\n",
              "       [100],\n",
              "       [100],\n",
              "       [100],\n",
              "       [100],\n",
              "       [100],\n",
              "       [100],\n",
              "       [100],\n",
              "       [100],\n",
              "       [100],\n",
              "       [100],\n",
              "       [100],\n",
              "       [100],\n",
              "       [100],\n",
              "       [100],\n",
              "       [100],\n",
              "       [100],\n",
              "       [100],\n",
              "       [100],\n",
              "       [100],\n",
              "       [100],\n",
              "       [100],\n",
              "       [100],\n",
              "       [100],\n",
              "       [100],\n",
              "       [100],\n",
              "       [100],\n",
              "       [100],\n",
              "       [100],\n",
              "       [100],\n",
              "       [100],\n",
              "       [100],\n",
              "       [100],\n",
              "       [100],\n",
              "       [100],\n",
              "       [100],\n",
              "       [100],\n",
              "       [100],\n",
              "       [100],\n",
              "       [100],\n",
              "       [100],\n",
              "       [100],\n",
              "       [100],\n",
              "       [100],\n",
              "       [100],\n",
              "       [100],\n",
              "       [100],\n",
              "       [100],\n",
              "       [100],\n",
              "       [100],\n",
              "       [100],\n",
              "       [100],\n",
              "       [100],\n",
              "       [100],\n",
              "       [100],\n",
              "       [100],\n",
              "       [100],\n",
              "       [100],\n",
              "       [100],\n",
              "       [100],\n",
              "       [100],\n",
              "       [100],\n",
              "       [100],\n",
              "       [100],\n",
              "       [100],\n",
              "       [100],\n",
              "       [100],\n",
              "       [100],\n",
              "       [100],\n",
              "       [100],\n",
              "       [100],\n",
              "       [100],\n",
              "       [100],\n",
              "       [100],\n",
              "       [100],\n",
              "       [100],\n",
              "       [100],\n",
              "       [100],\n",
              "       [100],\n",
              "       [100],\n",
              "       [100],\n",
              "       [100],\n",
              "       [100],\n",
              "       [100],\n",
              "       [100],\n",
              "       [100],\n",
              "       [100],\n",
              "       [100],\n",
              "       [100],\n",
              "       [100],\n",
              "       [100],\n",
              "       [100],\n",
              "       [100],\n",
              "       [100],\n",
              "       [100],\n",
              "       [100],\n",
              "       [100],\n",
              "       [100],\n",
              "       [100],\n",
              "       [100],\n",
              "       [100],\n",
              "       [100],\n",
              "       [100],\n",
              "       [100],\n",
              "       [100],\n",
              "       [100],\n",
              "       [100],\n",
              "       [100],\n",
              "       [100],\n",
              "       [100],\n",
              "       [100],\n",
              "       [100],\n",
              "       [100],\n",
              "       [100],\n",
              "       [100],\n",
              "       [100],\n",
              "       [100],\n",
              "       [100],\n",
              "       [100],\n",
              "       [100],\n",
              "       [100],\n",
              "       [100],\n",
              "       [100],\n",
              "       [100],\n",
              "       [100],\n",
              "       [100],\n",
              "       [100],\n",
              "       [100],\n",
              "       [100],\n",
              "       [100],\n",
              "       [100],\n",
              "       [100],\n",
              "       [100],\n",
              "       [100],\n",
              "       [100],\n",
              "       [100],\n",
              "       [100],\n",
              "       [100],\n",
              "       [100],\n",
              "       [100],\n",
              "       [100],\n",
              "       [100],\n",
              "       [100],\n",
              "       [100],\n",
              "       [100],\n",
              "       [100],\n",
              "       [100],\n",
              "       [100],\n",
              "       [100],\n",
              "       [100],\n",
              "       [100],\n",
              "       [100],\n",
              "       [100],\n",
              "       [100],\n",
              "       [100],\n",
              "       [100],\n",
              "       [100],\n",
              "       [100],\n",
              "       [100],\n",
              "       [100],\n",
              "       [100],\n",
              "       [100],\n",
              "       [100],\n",
              "       [100],\n",
              "       [100],\n",
              "       [100],\n",
              "       [100],\n",
              "       [100],\n",
              "       [100],\n",
              "       [100],\n",
              "       [100],\n",
              "       [100],\n",
              "       [100],\n",
              "       [100],\n",
              "       [100],\n",
              "       [100],\n",
              "       [100],\n",
              "       [100],\n",
              "       [100],\n",
              "       [100],\n",
              "       [100],\n",
              "       [100],\n",
              "       [100],\n",
              "       [100],\n",
              "       [100],\n",
              "       [100],\n",
              "       [100],\n",
              "       [100],\n",
              "       [100],\n",
              "       [100],\n",
              "       [100],\n",
              "       [100],\n",
              "       [100],\n",
              "       [100],\n",
              "       [100],\n",
              "       [100],\n",
              "       [100],\n",
              "       [100],\n",
              "       [100],\n",
              "       [100],\n",
              "       [100],\n",
              "       [100],\n",
              "       [100],\n",
              "       [100],\n",
              "       [100],\n",
              "       [100],\n",
              "       [100],\n",
              "       [100],\n",
              "       [100],\n",
              "       [100],\n",
              "       [100],\n",
              "       [100],\n",
              "       [100],\n",
              "       [100],\n",
              "       [100],\n",
              "       [100],\n",
              "       [100],\n",
              "       [100],\n",
              "       [100],\n",
              "       [100],\n",
              "       [100],\n",
              "       [100],\n",
              "       [100],\n",
              "       [100],\n",
              "       [100],\n",
              "       [100],\n",
              "       [100],\n",
              "       [100],\n",
              "       [100],\n",
              "       [100],\n",
              "       [100],\n",
              "       [100],\n",
              "       [100],\n",
              "       [100],\n",
              "       [100],\n",
              "       [100],\n",
              "       [100],\n",
              "       [100],\n",
              "       [100],\n",
              "       [100],\n",
              "       [100],\n",
              "       [100],\n",
              "       [100],\n",
              "       [100],\n",
              "       [100],\n",
              "       [100],\n",
              "       [100],\n",
              "       [100],\n",
              "       [100],\n",
              "       [100],\n",
              "       [100],\n",
              "       [100],\n",
              "       [100],\n",
              "       [100],\n",
              "       [100],\n",
              "       [100],\n",
              "       [100],\n",
              "       [100],\n",
              "       [100],\n",
              "       [100],\n",
              "       [100],\n",
              "       [100],\n",
              "       [100],\n",
              "       [100],\n",
              "       [100],\n",
              "       [100],\n",
              "       [100],\n",
              "       [100],\n",
              "       [100],\n",
              "       [100],\n",
              "       [100],\n",
              "       [100],\n",
              "       [100],\n",
              "       [100],\n",
              "       [100],\n",
              "       [100],\n",
              "       [100],\n",
              "       [100],\n",
              "       [100],\n",
              "       [100],\n",
              "       [100],\n",
              "       [100],\n",
              "       [100],\n",
              "       [100]])"
            ]
          },
          "metadata": {},
          "execution_count": 47
        }
      ]
    },
    {
      "cell_type": "code",
      "source": [],
      "metadata": {
        "id": "UbuRuPmG5Zvn"
      },
      "execution_count": null,
      "outputs": []
    }
  ]
}